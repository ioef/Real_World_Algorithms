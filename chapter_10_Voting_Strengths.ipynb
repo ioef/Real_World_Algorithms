{
 "cells": [
  {
   "cell_type": "markdown",
   "metadata": {
    "slideshow": {
     "slide_type": "slide"
    }
   },
   "source": [
    "# Voting Strengths\n",
    "\n",
    "Chapter 10 of [Real World Algorithms](https://mitpress.mit.edu/books/real-world-algorithms).\n",
    "\n",
    "---\n",
    "\n",
    "> Panos Louridas<br />\n",
    "> Athens University of Economics and Business"
   ]
  },
  {
   "cell_type": "markdown",
   "metadata": {
    "slideshow": {
     "slide_type": "slide"
    }
   },
   "source": [
    "## The Schulze Method\n",
    "\n",
    "To start with the Schulze method, we need a way to input ballots.\n",
    "\n",
    "We assume that the ballots are saved in a file, one ballot per line. In each line, that is, ballot, the candidates are listed in decreasing preference.\n",
    "\n",
    "We'll use the file [ballots.csv](ballots.csv) as an example. The file is in [Comma-separated Values (CSV)](https://en.wikipedia.org/wiki/Comma-separated_values) format.\n",
    "\n",
    "So, the first line is:\n",
    "```\n",
    "D,B,A,C\n",
    "```\n",
    "which means that the first preference of the voter is candidate D, then B, then A, then C."
   ]
  },
  {
   "cell_type": "markdown",
   "metadata": {
    "slideshow": {
     "slide_type": "slide"
    }
   },
   "source": [
    "Although seemingly simple, CSV is a treacherous format.\n",
    "\n",
    "There are many details than one would think at first sight; for example, what happens if a field in the line contains a comma, could we have different delimiters, etc.\n",
    "\n",
    "For that reason, you should always use a ready-made library for handling CVS files.\n",
    "\n",
    "Our ballots file is simple, but there is no reason not to use [Python's CSV library](https://docs.python.org/3/library/csv.html) anyway.\n",
    "\n",
    "We'll get all the ballots and we'll put them into a list."
   ]
  },
  {
   "cell_type": "code",
   "execution_count": 1,
   "metadata": {
    "slideshow": {
     "slide_type": "fragment"
    }
   },
   "outputs": [
    {
     "name": "stdout",
     "output_type": "stream",
     "text": [
      "[['D', 'B', 'A', 'C'],\n",
      " ['A', 'C', 'D', 'B'],\n",
      " ['C', 'D', 'B', 'A'],\n",
      " ['C', 'D', 'B', 'A'],\n",
      " ['D', 'C', 'B', 'A'],\n",
      " ['D', 'B', 'A', 'C'],\n",
      " ['B', 'A', 'D', 'C'],\n",
      " ['D', 'C', 'B', 'A'],\n",
      " ['A', 'C', 'D', 'B'],\n",
      " ['B', 'A', 'D', 'C'],\n",
      " ['D', 'C', 'B', 'A'],\n",
      " ['D', 'B', 'A', 'C'],\n",
      " ['A', 'C', 'D', 'B'],\n",
      " ['B', 'A', 'D', 'C'],\n",
      " ['D', 'C', 'B', 'A'],\n",
      " ['D', 'B', 'A', 'C'],\n",
      " ['A', 'C', 'D', 'B'],\n",
      " ['B', 'A', 'D', 'C'],\n",
      " ['A', 'C', 'D', 'B'],\n",
      " ['C', 'D', 'B', 'A'],\n",
      " ['A', 'C', 'D', 'B']]\n"
     ]
    }
   ],
   "source": [
    "import csv\n",
    "import pprint\n",
    "\n",
    "\n",
    "with open('ballots.csv') as ballots_file:\n",
    "    reader = csv.reader(ballots_file)\n",
    "    ballots = list(reader)\n",
    "    \n",
    "pprint.pprint(ballots, width=30)"
   ]
  },
  {
   "cell_type": "markdown",
   "metadata": {
    "slideshow": {
     "slide_type": "slide"
    }
   },
   "source": [
    "The first step in the Schulze method is to calculate the pairwise preferences of the voters regarding the candidates. \n",
    "\n",
    "That is an array $P$, such that element $P[c_j, c_k]$ shows how many voters prefer candidate $c_j$ to candidate $c_k$.\n",
    "\n",
    "As our candidates are given by characters, we'll assign a number, starting from zero, to each of the candidates, so that we'll be able to use integer-based indices."
   ]
  },
  {
   "cell_type": "code",
   "execution_count": 2,
   "metadata": {
    "slideshow": {
     "slide_type": "slide"
    }
   },
   "outputs": [
    {
     "name": "stdout",
     "output_type": "stream",
     "text": [
      "[[0, 6, 14, 10],\n",
      " [15, 0, 8, 4],\n",
      " [7, 13, 0, 9],\n",
      " [11, 17, 12, 0]]\n"
     ]
    }
   ],
   "source": [
    "from collections import defaultdict\n",
    "\n",
    "candidates = {\n",
    "    'A': 0,\n",
    "    'B': 1,\n",
    "    'C': 2,\n",
    "    'D': 3\n",
    "}\n",
    "\n",
    "def calc_pairwise_prefs(ballots, candidates):\n",
    "    # Initialize p to 0.\n",
    "    p = [ [0 for j in candidates.keys() ] for i in candidates.keys() ]\n",
    "    # Take each ballot in turn.\n",
    "    for ballot in ballots:\n",
    "        # Take each candidate in the ballot.\n",
    "        for i, c_i in enumerate(ballot):\n",
    "            # Take all following candidates in the ballot.\n",
    "            for c_j in ballot[i+1:]:\n",
    "                # Add to the score of c_i vs c_j.\n",
    "                p[candidates[c_i]][candidates[c_j]] += 1\n",
    "    return p\n",
    "\n",
    "p = calc_pairwise_prefs(ballots, candidates)\n",
    "pprint.pprint(p, width=20)"
   ]
  },
  {
   "cell_type": "markdown",
   "metadata": {
    "slideshow": {
     "slide_type": "slide"
    }
   },
   "source": [
    "The second step in the Schulze method is to create an election graph.\n",
    "\n",
    "This will be represented by an adjacency matrix.\n",
    "\n",
    "If for two candidates $c_i$ and $c_j$ the number $P[c_i, c_j]$ of voters that prefer $c_i$ over $c_j$ is greater than the number of voters $P[c_j, c_i]$ that prefer $c_j$ over $c_i$, we add the link $c_i \\rightarrow c_j$ and we assign the number $P[c_i, c_j] - P[c_j, c_i]$ as the weight of the link $c_i \\rightarrow c_j$.\n",
    "\n",
    "We'll assign the value $-1$ for all other pairs (or $-\\infty$, but as $-1$ is not a valid weight, it will also do)."
   ]
  },
  {
   "cell_type": "code",
   "execution_count": 3,
   "metadata": {
    "collapsed": true,
    "slideshow": {
     "slide_type": "slide"
    }
   },
   "outputs": [],
   "source": [
    "def create_election_graph(p):\n",
    "    n  = len(p)\n",
    "    g = [ [-1 for j in range(n) ] for i in range(n) ]\n",
    "    for i in range(n):\n",
    "        for j in range(n):\n",
    "            if p[i][j] > p[j][i]:\n",
    "                g[i][j] = p[i][j] - p[j][i]\n",
    "    return g"
   ]
  },
  {
   "cell_type": "markdown",
   "metadata": {
    "slideshow": {
     "slide_type": "slide"
    }
   },
   "source": [
    "We can then see the adjacency matrix for our election example:"
   ]
  },
  {
   "cell_type": "code",
   "execution_count": 4,
   "metadata": {
    "slideshow": {
     "slide_type": "fragment"
    }
   },
   "outputs": [
    {
     "name": "stdout",
     "output_type": "stream",
     "text": [
      "[[-1, -1, 7, -1],\n",
      " [9, -1, -1, -1],\n",
      " [-1, 5, -1, -1],\n",
      " [1, 13, 3, -1]]\n"
     ]
    }
   ],
   "source": [
    "g = create_election_graph(p)\n",
    "pprint.pprint(g, width=20)"
   ]
  },
  {
   "cell_type": "markdown",
   "metadata": {
    "slideshow": {
     "slide_type": "slide"
    }
   },
   "source": [
    "With the adjacency matrix available, we can implement the calculation of the strongest paths.\n",
    "\n",
    "The function `calc_strongest_paths(p, candidates)` will take as input the adjacency matrix and the candidates and will return:\n",
    "  * `s`, a matrix of size $n \\times n$ such that `s[i][j]` is the strongest path between nodes `i` and `j`.\n",
    "  * `pred`, a matrix of size $n \\times n$ such that `pred[i][j]` is the predecessor of node `i` in the strongest path to node `j`.\n",
    "    \n",
    "The algorithm finds the strongest paths iteratively, by allowing to use one additional node as intermediate node in the paths in each iteration."
   ]
  },
  {
   "cell_type": "code",
   "execution_count": 5,
   "metadata": {
    "collapsed": true,
    "slideshow": {
     "slide_type": "slide"
    }
   },
   "outputs": [],
   "source": [
    "def calc_strongest_paths(p):\n",
    "    n = len(p)\n",
    "    # Initialize strongest paths array.\n",
    "    s = [ [ -1 for j in range(n) ] for i in range(n) ]\n",
    "    # Initialize predecessors array.\n",
    "    pred = [ [ -1 for j in range(n) ] for i in range(n) ]\n",
    "    \n",
    "    # Initially the strength of the path s[i][j] is simply\n",
    "    # the difference in the weights between p[i][j] \n",
    "    # and p[j][i].\n",
    "    for i in range(n):\n",
    "        for j in range(n):\n",
    "            if p[i][j] > p[j][i]:\n",
    "                s[i][j] = p[i][j] - p[j][i]\n",
    "                pred[i][j] = i\n",
    "    \n",
    "    # For each k, i, j, such that the path from i to j\n",
    "    # can be strengthened by taking the detour from i to k\n",
    "    # and k to j adjust the path and the predecessor.\n",
    "    # This can happen at most n times.\n",
    "    for k in range(n):\n",
    "        for i in range(n):\n",
    "            if i != k:\n",
    "                for j in range(n):\n",
    "                    if j != i:\n",
    "                        if s[i][j] < min(s[i][k], s[k][j]):\n",
    "                            s[i][j] = min(s[i][k], s[k][j])\n",
    "                            pred[i][j] = pred[k][j]\n",
    "    \n",
    "    return (s, pred)"
   ]
  },
  {
   "cell_type": "markdown",
   "metadata": {
    "slideshow": {
     "slide_type": "slide"
    }
   },
   "source": [
    "We now apply `calc_strongest_paths(p)` to our example:"
   ]
  },
  {
   "cell_type": "code",
   "execution_count": 6,
   "metadata": {
    "slideshow": {
     "slide_type": "fragment"
    }
   },
   "outputs": [
    {
     "name": "stdout",
     "output_type": "stream",
     "text": [
      "strongest paths\n",
      "[[-1, 5, 7, -1],\n",
      " [9, -1, 7, -1],\n",
      " [5, 5, -1, -1],\n",
      " [9, 13, 7, -1]]\n",
      "predecessors\n",
      "[[-1, 2, 0, -1],\n",
      " [1, -1, 0, -1],\n",
      " [1, 2, -1, -1],\n",
      " [1, 3, 0, -1]]\n"
     ]
    }
   ],
   "source": [
    "s, pred = calc_strongest_paths(p)\n",
    "print('strongest paths')\n",
    "pprint.pprint(s, width=30)\n",
    "print('predecessors')\n",
    "pprint.pprint(pred, width=30)"
   ]
  },
  {
   "cell_type": "markdown",
   "metadata": {
    "slideshow": {
     "slide_type": "slide"
    }
   },
   "source": [
    "The final step in the Schulze algorithm is finding, for each candidate the candidates that are less popular.\n",
    "\n",
    "That is a matter of comparing `s[i][j]` and `s[j][i]`.\n",
    "\n",
    "We implement the logic in `calc_results(s)`."
   ]
  },
  {
   "cell_type": "code",
   "execution_count": 7,
   "metadata": {
    "collapsed": true,
    "slideshow": {
     "slide_type": "fragment"
    }
   },
   "outputs": [],
   "source": [
    "def calc_results(s):\n",
    "    n = len(s)\n",
    "    wins = [ [] for i in range(n) ]\n",
    "    for i in range(n):\n",
    "        for j in range(n):\n",
    "            if i != j:\n",
    "                if s[i][j] > s[j][i]:\n",
    "                    wins[i].append(j)\n",
    "    return wins"
   ]
  },
  {
   "cell_type": "markdown",
   "metadata": {
    "slideshow": {
     "slide_type": "slide"
    }
   },
   "source": [
    "Finally, we can find the winner of the election:"
   ]
  },
  {
   "cell_type": "code",
   "execution_count": 8,
   "metadata": {
    "slideshow": {
     "slide_type": "fragment"
    }
   },
   "outputs": [
    {
     "name": "stdout",
     "output_type": "stream",
     "text": [
      "[[2], [0, 2], [], [0, 1, 2]]\n"
     ]
    }
   ],
   "source": [
    "wins = calc_results(s)\n",
    "print(wins)"
   ]
  },
  {
   "cell_type": "markdown",
   "metadata": {
    "slideshow": {
     "slide_type": "fragment"
    }
   },
   "source": [
    "* Candidate `A` wins over `C`.\n",
    "* Candidate `B` wins over `A`, `C`.\n",
    "* Candidate `D` wins over `A`, `B`, `C`.\n",
    "* Candidate `D` wins the election."
   ]
  },
  {
   "cell_type": "markdown",
   "metadata": {
    "slideshow": {
     "slide_type": "slide"
    }
   },
   "source": [
    "## The Schulze Method: An Alternative\n",
    "\n",
    "We can implement the Schulze method with an alternative implementation, in which instead of an adjacency matrix we use a dictionary to represent the preferences.\n",
    "\n",
    "The logic is entirely the same."
   ]
  },
  {
   "cell_type": "markdown",
   "metadata": {
    "slideshow": {
     "slide_type": "slide"
    }
   },
   "source": [
    "We implement `calc_pairwise_prefs(ballots)` to return a dictionary `p` such that `p[(c_i, c_j)]` shows how many voters prefer candidate  `c_i`  to candidate  `c_j`.\n",
    "\n",
    "The keys to the dictionary are the tuples `(c_i, c_j)`.\n",
    "\n",
    "Note that we do not need to work with indices instead of the actual voters.\n",
    "\n",
    "We use a `defaultdict(int)`, so the dictionary will return 0 if `(c_i, c_j)` is not a key.\n",
    "\n",
    "Essentially this is like initializing the preferences matrix to zero."
   ]
  },
  {
   "cell_type": "code",
   "execution_count": 9,
   "metadata": {
    "slideshow": {
     "slide_type": "slide"
    }
   },
   "outputs": [
    {
     "name": "stdout",
     "output_type": "stream",
     "text": [
      "defaultdict(<class 'int'>,\n",
      "            {('A', 'B'): 6,\n",
      "             ('A', 'C'): 14,\n",
      "             ('A', 'D'): 10,\n",
      "             ('B', 'A'): 15,\n",
      "             ('B', 'C'): 8,\n",
      "             ('B', 'D'): 4,\n",
      "             ('C', 'A'): 7,\n",
      "             ('C', 'B'): 13,\n",
      "             ('C', 'D'): 9,\n",
      "             ('D', 'A'): 11,\n",
      "             ('D', 'B'): 17,\n",
      "             ('D', 'C'): 12})\n"
     ]
    }
   ],
   "source": [
    "from collections import defaultdict\n",
    "\n",
    "def calc_pairwise_prefs(ballots):\n",
    "    p = defaultdict(int)\n",
    "    for ballot in ballots:\n",
    "        for i, c_i in enumerate(ballot):\n",
    "            for c_j in ballot[i+1:]:\n",
    "                p[(c_i, c_j)] += 1\n",
    "    return p\n",
    "\n",
    "p = calc_pairwise_prefs(ballots)\n",
    "pprint.pprint(p)"
   ]
  },
  {
   "cell_type": "markdown",
   "metadata": {
    "slideshow": {
     "slide_type": "slide"
    }
   },
   "source": [
    "The printout of the preferences dictionary is less elegant than the printout of the preferences matrix that we had before.\n",
    "\n",
    "We can fix that by writing a short helper function that will output our dictionaries in matrix format."
   ]
  },
  {
   "cell_type": "code",
   "execution_count": 10,
   "metadata": {
    "slideshow": {
     "slide_type": "slide"
    }
   },
   "outputs": [
    {
     "name": "stdout",
     "output_type": "stream",
     "text": [
      "    A    B    C    D  \n",
      "A   0    6   14   10  \n",
      "B  15    0    8    4  \n",
      "C   7   13    0    9  \n",
      "D  11   17   12    0  \n"
     ]
    }
   ],
   "source": [
    "p = calc_pairwise_prefs(ballots)\n",
    "\n",
    "import itertools \n",
    "candidates = ['A', 'B', 'C', 'D']\n",
    "\n",
    "def print_matrix(candidates, matrix, col_width=5):\n",
    "    print('  ', end=\"\")\n",
    "    num_candidates = len(candidates)\n",
    "    for candidate in candidates:\n",
    "        print(f'{candidate:^{col_width}}', end=\"\")\n",
    "    i = 0\n",
    "    for c1, c2 in itertools.product(candidates, repeat=2):\n",
    "        if i % num_candidates == 0:\n",
    "            print()\n",
    "            print(f'{candidates[i // num_candidates]:<2}', end=\"\")\n",
    "        print(f'{matrix[(c1, c2)]:^{col_width}}', end=\"\")\n",
    "        i += 1\n",
    "    print()\n",
    "\n",
    "print_matrix(candidates, p, 5)"
   ]
  },
  {
   "cell_type": "markdown",
   "metadata": {
    "slideshow": {
     "slide_type": "slide"
    }
   },
   "source": [
    "We then create the election graph.\n",
    "\n",
    "We use again a dictionary to store the graph. The keys of the dictionary are node tuples and the values are differences in preferences.\n",
    "\n",
    "Note that not all tuples are actually stored in the dictionary. We store explicitly only the tuples with a positive difference in preferences.\n",
    "\n",
    "We use a `defaultdict(lambda:-1)`, which will return -1 for any other (non-existing) key, so for all other couples."
   ]
  },
  {
   "cell_type": "code",
   "execution_count": 11,
   "metadata": {
    "collapsed": true,
    "slideshow": {
     "slide_type": "slide"
    }
   },
   "outputs": [],
   "source": [
    "def create_election_graph(p):\n",
    "    g = defaultdict(lambda:-1)\n",
    "    for (c_i, c_j), pref in p.items():\n",
    "        if pref > p[(c_j, c_i)]:\n",
    "            g[(c_i, c_j)] = pref - p[(c_j, c_i)]\n",
    "    return g"
   ]
  },
  {
   "cell_type": "markdown",
   "metadata": {
    "slideshow": {
     "slide_type": "slide"
    }
   },
   "source": [
    "In this way we save space.\n",
    "\n",
    "We can still use `print_matrix(candidates, g, 5)` to print the dictionary in matrix format.\n",
    "\n",
    "Only those entries that are not equal to -1 are actually stored in the dictionary."
   ]
  },
  {
   "cell_type": "code",
   "execution_count": 12,
   "metadata": {
    "slideshow": {
     "slide_type": "slide"
    }
   },
   "outputs": [
    {
     "name": "stdout",
     "output_type": "stream",
     "text": [
      "    A    B    C    D  \n",
      "A  -1   -1    7   -1  \n",
      "B   9   -1   -1   -1  \n",
      "C  -1    5   -1   -1  \n",
      "D   1   13    3   -1  \n"
     ]
    }
   ],
   "source": [
    "g = create_election_graph(p)\n",
    "print_matrix(candidates, g, 5)"
   ]
  },
  {
   "cell_type": "markdown",
   "metadata": {
    "slideshow": {
     "slide_type": "slide"
    }
   },
   "source": [
    "We'll use again `defaultdict`s to implement `calc_strongest_paths(p, candidates)`.\n",
    "\n",
    "We need to pass `candidates` to the function as we no longer use numerical indices, but the actual candidates."
   ]
  },
  {
   "cell_type": "code",
   "execution_count": 13,
   "metadata": {
    "collapsed": true,
    "slideshow": {
     "slide_type": "slide"
    }
   },
   "outputs": [],
   "source": [
    "def calc_strongest_paths(p, candidates):\n",
    "     # Initialize strongest paths dict.\n",
    "    s = defaultdict(lambda:-1)\n",
    "    # Initialize predecessors dict.\n",
    "    pred = defaultdict(lambda:-1)\n",
    "    \n",
    "    # Initially the strength of the path from c_i to c_j is simply\n",
    "    # the difference in the weights between s[(c_i, c_j)] \n",
    "    # and s[(c_j, c_i)].\n",
    "    for (c_i, c_j), pref in p.items():\n",
    "        if pref > p[(c_j, c_i)]:\n",
    "            s[(c_i, c_j)] = pref - p[(c_j, c_i)]\n",
    "            pred[(c_i, c_j)] = c_i\n",
    "    \n",
    "    # For each c_k, c_i, c_j, such that the path from c_i to c_j\n",
    "    # can be strengthened by taking the detour from c_i to c_k\n",
    "    # and then to c_k and c_j adjust the path and the predecessor.\n",
    "    # This can happen at most as many times as there are candidates.\n",
    "    for c_k in candidates:\n",
    "        for c_i in candidates:\n",
    "            if c_i != c_k:\n",
    "                for c_j in candidates:\n",
    "                    if c_j != c_i:\n",
    "                        if s[(c_i, c_j)] < min(s[(c_i, c_k)], s[(c_k, c_j)]):\n",
    "                            s[(c_i, c_j)] = min(s[(c_i, c_k)], s[(c_k, c_j)])\n",
    "                            pred[(c_i, c_j)] = pred[(c_k, c_j)]\n",
    "    \n",
    "    return (s, pred)"
   ]
  },
  {
   "cell_type": "markdown",
   "metadata": {
    "slideshow": {
     "slide_type": "slide"
    }
   },
   "source": [
    "We now apply `calc_strongest_paths(p, candidates)` to our example:"
   ]
  },
  {
   "cell_type": "code",
   "execution_count": 14,
   "metadata": {
    "slideshow": {
     "slide_type": "fragment"
    }
   },
   "outputs": [
    {
     "name": "stdout",
     "output_type": "stream",
     "text": [
      "strongest paths\n",
      "    A    B    C    D  \n",
      "A  -1    5    7   -1  \n",
      "B   9   -1    7   -1  \n",
      "C   5    5   -1   -1  \n",
      "D   9   13    7   -1  \n",
      "predecessors\n",
      "    A    B    C    D  \n",
      "A  -1    C    A   -1  \n",
      "B   B   -1    A   -1  \n",
      "C   B    C   -1   -1  \n",
      "D   B    D    A   -1  \n"
     ]
    }
   ],
   "source": [
    "s, pred = calc_strongest_paths(p, candidates)\n",
    "print('strongest paths')\n",
    "print_matrix(candidates, s, 5)\n",
    "print('predecessors')\n",
    "print_matrix(candidates, pred, 5)"
   ]
  },
  {
   "cell_type": "markdown",
   "metadata": {
    "slideshow": {
     "slide_type": "slide"
    }
   },
   "source": [
    "Finally, we calculate the results.\n",
    "\n",
    "We do as before, but we return a dictionary instead.\n",
    "\n",
    "The keys are the candidates.\n",
    "\n",
    "The value of a key is a list containing the candidates that lose to the particular candidate indicated by the key."
   ]
  },
  {
   "cell_type": "code",
   "execution_count": 15,
   "metadata": {
    "collapsed": true,
    "slideshow": {
     "slide_type": "fragment"
    }
   },
   "outputs": [],
   "source": [
    "def calc_results(s):\n",
    "    wins = defaultdict(list)\n",
    "    for (c_i, c_j), v in s.items():\n",
    "        if s[(c_i, c_j)] > s[(c_j, c_i)]:\n",
    "            wins[c_i].append(c_j)\n",
    "    return wins"
   ]
  },
  {
   "cell_type": "markdown",
   "metadata": {
    "slideshow": {
     "slide_type": "slide"
    }
   },
   "source": [
    "So, here are the results again:"
   ]
  },
  {
   "cell_type": "code",
   "execution_count": 16,
   "metadata": {
    "slideshow": {
     "slide_type": "fragment"
    }
   },
   "outputs": [
    {
     "name": "stdout",
     "output_type": "stream",
     "text": [
      "defaultdict(<class 'list'>, {'D': ['B', 'A', 'C'], 'B': ['A', 'C'], 'A': ['C']})\n"
     ]
    }
   ],
   "source": [
    "wins = calc_results(s)\n",
    "pprint.pprint(wins)"
   ]
  },
  {
   "cell_type": "markdown",
   "metadata": {
    "slideshow": {
     "slide_type": "slide"
    }
   },
   "source": [
    "## Floyd-Warshall All Pairs Shortest Paths\n",
    "\n",
    "The strongest paths is a variation of the Floyd-Warshall all pairs shortest paths algorithm.\n",
    "\n",
    "As with the strongest paths, it finds shortest paths by using more and more nodes as intermediaries."
   ]
  },
  {
   "cell_type": "code",
   "execution_count": 23,
   "metadata": {
    "collapsed": true,
    "slideshow": {
     "slide_type": "slide"
    }
   },
   "outputs": [],
   "source": [
    "import sys\n",
    "MAX_INT = sys.maxsize\n",
    "\n",
    "def floyd_warshall(w):\n",
    "    n = len(w)\n",
    "    # Initialize distances matrix.\n",
    "    dist = [ [ MAX_INT for j in range(n) ] for i in range(n) ]\n",
    "    # Initialize predecessors matrix.\n",
    "    pred = [ [ -1 for j in range(n) ] for i in range(n) ]\n",
    "    \n",
    "    # Initially the length of the path from i to j is simply\n",
    "    # the weight between w[i][j], if it exists, and then \n",
    "    # i is the predecessor of j.\n",
    "    for i in range(n):\n",
    "        for j in range(n):\n",
    "            if w[i][j] != 0:\n",
    "                dist[i][j] = w[i][j]\n",
    "                pred[i][j] = i\n",
    "    \n",
    "    # For each k, i, j, such that the path from i to j\n",
    "    # can be shortened by taking the detour from i to k\n",
    "    # and k to j adjust the path and the predecessor.\n",
    "    # This can happen at most n times.\n",
    "    for k in range(n):\n",
    "        for i in range(n):\n",
    "            if i != k:\n",
    "                for j in range(n):\n",
    "                    if j != i:\n",
    "                        if (dist[i][k] != MAX_INT and\n",
    "                            dist[k][j] != MAX_INT and\n",
    "                            dist[i][j] > dist[i][k] + dist[k][j]):\n",
    "                            dist[i][j] = dist[i][k] + dist[k][j]\n",
    "                            pred[i][j] = pred[k][j]\n",
    "    \n",
    "    return (dist, pred)"
   ]
  },
  {
   "cell_type": "markdown",
   "metadata": {
    "slideshow": {
     "slide_type": "slide"
    }
   },
   "source": [
    "We'll use the algorithm on the familiar [traffic_grid_graph.txt](traffic_grid_graph.txt) algorithm.\n",
    "\n",
    "<img width=\"400\" src=\"traffic_grid_graph.png\"/>"
   ]
  },
  {
   "cell_type": "markdown",
   "metadata": {
    "slideshow": {
     "slide_type": "slide"
    }
   },
   "source": [
    "Here is the function that reads the graph:"
   ]
  },
  {
   "cell_type": "code",
   "execution_count": 18,
   "metadata": {
    "collapsed": true,
    "slideshow": {
     "slide_type": "fragment"
    }
   },
   "outputs": [],
   "source": [
    "def read_graph(filename, directed=False):\n",
    "    graph = {}\n",
    "    with open(filename) as input_file:\n",
    "        for line in input_file:\n",
    "            parts = line.split()\n",
    "            if len(parts) != 3:\n",
    "                continue # not a valid line, ignore\n",
    "            [n1, n2, w] = [ int (x) for x in parts ]\n",
    "            if n1 not in graph:\n",
    "                graph[n1] = []\n",
    "            if n2 not in graph:\n",
    "                graph[n2] = []\n",
    "            graph[n1].append((n2, w))\n",
    "            if not directed:\n",
    "                graph[n2].append((n1, w))\n",
    "    return graph"
   ]
  },
  {
   "cell_type": "markdown",
   "metadata": {
    "slideshow": {
     "slide_type": "slide"
    }
   },
   "source": [
    "We go ahead and read it:"
   ]
  },
  {
   "cell_type": "code",
   "execution_count": 19,
   "metadata": {
    "slideshow": {
     "slide_type": "fragment"
    }
   },
   "outputs": [
    {
     "name": "stdout",
     "output_type": "stream",
     "text": [
      "{0: [(1, 3), (4, 5)],\n",
      " 1: [(0, 3), (5, 9), (2, 1)],\n",
      " 2: [(1, 1), (6, 2), (3, 4)],\n",
      " 3: [(2, 4), (7, 6)],\n",
      " 4: [(0, 5), (5, 3), (8, 7)],\n",
      " 5: [(1, 9), (4, 3), (9, 9), (6, 5)],\n",
      " 6: [(2, 2), (5, 5), (10, 3), (7, 8)],\n",
      " 7: [(3, 6), (6, 8), (11, 2)],\n",
      " 8: [(4, 7), (12, 6), (9, 8)],\n",
      " 9: [(5, 9), (8, 8), (13, 4), (10, 4)],\n",
      " 10: [(6, 3), (9, 4), (14, 3), (11, 6)],\n",
      " 11: [(7, 2), (10, 6), (15, 3)],\n",
      " 12: [(8, 6), (13, 3)],\n",
      " 13: [(9, 4), (12, 3), (14, 2)],\n",
      " 14: [(10, 3), (13, 2), (15, 7)],\n",
      " 15: [(11, 3), (14, 7)]}\n"
     ]
    }
   ],
   "source": [
    "g = read_graph('traffic_grid_graph.txt')\n",
    "pprint.pprint(g)"
   ]
  },
  {
   "cell_type": "markdown",
   "metadata": {
    "slideshow": {
     "slide_type": "slide"
    }
   },
   "source": [
    "Our implementation of the Floyd-Warshall algorithms requires an adjacency matrix as input.\n",
    "\n",
    "So, we'll use a function that converts the graph from an adjacency list representation to an adjacency matrix one."
   ]
  },
  {
   "cell_type": "code",
   "execution_count": 20,
   "metadata": {
    "collapsed": true,
    "slideshow": {
     "slide_type": "slide"
    }
   },
   "outputs": [],
   "source": [
    "def adjlist_to_matrix(g):\n",
    "    m = [ [ MAX_INT for j in g.keys() ] for i in g.keys() ]\n",
    "    for u in g.keys():\n",
    "        m[u][u] = 0\n",
    "    for u in g.keys():\n",
    "        for (v, w) in g[u]:\n",
    "            m[u][v] = w\n",
    "    return m"
   ]
  },
  {
   "cell_type": "markdown",
   "metadata": {
    "slideshow": {
     "slide_type": "slide"
    }
   },
   "source": [
    "We do the conversion, and then we run the Floyd-Warshall algorithm."
   ]
  },
  {
   "cell_type": "code",
   "execution_count": 21,
   "metadata": {
    "slideshow": {
     "slide_type": "fragment"
    }
   },
   "outputs": [
    {
     "name": "stdout",
     "output_type": "stream",
     "text": [
      "starting node: 0\n",
      "[-1, 0, 1, 2, 0, 4, 2, 3, 4, 10, 6, 10, 13, 14, 10, 11]\n",
      "[9223372036854775807, 3, 4, 8, 5, 8, 6, 14, 12, 13, 9, 15, 17, 14, 12, 18]\n",
      "starting node: 1\n",
      "[1, -1, 1, 2, 0, 6, 2, 3, 4, 10, 6, 10, 13, 14, 10, 11]\n",
      "[3, 9223372036854775807, 1, 5, 8, 8, 3, 11, 15, 10, 6, 12, 14, 11, 9, 15]\n",
      "starting node: 2\n",
      "[1, 2, -1, 2, 0, 6, 2, 3, 4, 10, 6, 10, 13, 14, 10, 11]\n",
      "[4, 1, 9223372036854775807, 4, 9, 7, 2, 10, 16, 9, 5, 11, 13, 10, 8, 14]\n",
      "starting node: 3\n",
      "[1, 2, 3, -1, 0, 6, 2, 3, 4, 10, 6, 7, 13, 14, 10, 11]\n",
      "[8, 5, 4, 9223372036854775807, 13, 11, 6, 6, 20, 13, 9, 8, 17, 14, 12, 11]\n",
      "starting node: 4\n",
      "[4, 0, 1, 2, -1, 4, 5, 6, 4, 5, 6, 10, 8, 9, 10, 11]\n",
      "[5, 8, 9, 13, 9223372036854775807, 3, 8, 16, 7, 12, 11, 17, 13, 16, 14, 20]\n",
      "starting node: 5\n",
      "[4, 2, 6, 2, 5, -1, 5, 6, 4, 5, 6, 10, 8, 9, 10, 11]\n",
      "[8, 8, 7, 11, 3, 9223372036854775807, 5, 13, 10, 9, 8, 14, 16, 13, 11, 17]\n",
      "starting node: 6\n",
      "[1, 2, 6, 2, 5, 6, -1, 6, 4, 10, 6, 10, 13, 14, 10, 11]\n",
      "[6, 3, 2, 6, 8, 5, 9223372036854775807, 8, 15, 7, 3, 9, 11, 8, 6, 12]\n",
      "starting node: 7\n",
      "[1, 2, 3, 7, 5, 6, 7, -1, 9, 10, 11, 7, 13, 14, 10, 11]\n",
      "[14, 11, 10, 6, 16, 13, 8, 9223372036854775807, 20, 12, 8, 2, 16, 13, 11, 5]\n",
      "starting node: 8\n",
      "[4, 0, 1, 2, 8, 4, 5, 11, -1, 8, 9, 10, 8, 12, 13, 14]\n",
      "[12, 15, 16, 20, 7, 10, 15, 20, 9223372036854775807, 8, 12, 18, 6, 9, 11, 18]\n",
      "starting node: 9\n",
      "[1, 2, 6, 2, 5, 9, 10, 11, 9, -1, 9, 10, 13, 9, 13, 11]\n",
      "[13, 10, 9, 13, 12, 9, 7, 12, 8, 9223372036854775807, 4, 10, 7, 4, 6, 13]\n",
      "starting node: 10\n",
      "[1, 2, 6, 2, 5, 6, 10, 11, 9, 10, -1, 10, 13, 14, 10, 11]\n",
      "[9, 6, 5, 9, 11, 8, 3, 8, 12, 4, 9223372036854775807, 6, 8, 5, 3, 9]\n",
      "starting node: 11\n",
      "[1, 2, 6, 7, 5, 6, 10, 11, 9, 10, 11, -1, 13, 14, 10, 11]\n",
      "[15, 12, 11, 8, 17, 14, 9, 2, 18, 10, 6, 9223372036854775807, 14, 11, 9, 3]\n",
      "starting node: 12\n",
      "[1, 2, 6, 2, 8, 4, 10, 11, 12, 13, 14, 10, -1, 12, 13, 14]\n",
      "[17, 14, 13, 17, 13, 16, 11, 16, 6, 7, 8, 14, 9223372036854775807, 3, 5, 12]\n",
      "starting node: 13\n",
      "[1, 2, 6, 2, 5, 9, 10, 11, 12, 13, 14, 10, 13, -1, 13, 14]\n",
      "[14, 11, 10, 14, 16, 13, 8, 13, 9, 4, 5, 11, 3, 9223372036854775807, 2, 9]\n",
      "starting node: 14\n",
      "[1, 2, 6, 2, 5, 6, 10, 11, 12, 13, 14, 10, 13, 14, -1, 14]\n",
      "[12, 9, 8, 12, 14, 11, 6, 11, 11, 6, 3, 9, 5, 2, 9223372036854775807, 7]\n",
      "starting node: 15\n",
      "[1, 2, 6, 7, 5, 6, 10, 11, 12, 10, 11, 15, 13, 14, 15, -1]\n",
      "[18, 15, 14, 11, 20, 17, 12, 5, 18, 13, 9, 3, 12, 9, 7, 9223372036854775807]\n"
     ]
    }
   ],
   "source": [
    "m = adjlist_to_matrix(g)\n",
    "dist, pred = floyd_warshall(m)\n",
    "for s in sorted(g.keys()):\n",
    "    print('starting node:', s)\n",
    "    print(pred[s])\n",
    "    print(dist[s])"
   ]
  },
  {
   "cell_type": "markdown",
   "metadata": {
    "slideshow": {
     "slide_type": "slide"
    }
   },
   "source": [
    "You may have noticed than the distance of a node to itself has been set to `MAX_INT`.\n",
    "\n",
    "If that bothers us, and we like it to fix it to zero, that's easy to do: "
   ]
  },
  {
   "cell_type": "code",
   "execution_count": 22,
   "metadata": {
    "slideshow": {
     "slide_type": "fragment"
    }
   },
   "outputs": [
    {
     "name": "stdout",
     "output_type": "stream",
     "text": [
      "starting node: 0\n",
      "[-1, 0, 1, 2, 0, 4, 2, 3, 4, 10, 6, 10, 13, 14, 10, 11]\n",
      "[0, 3, 4, 8, 5, 8, 6, 14, 12, 13, 9, 15, 17, 14, 12, 18]\n",
      "starting node: 1\n",
      "[1, -1, 1, 2, 0, 6, 2, 3, 4, 10, 6, 10, 13, 14, 10, 11]\n",
      "[3, 0, 1, 5, 8, 8, 3, 11, 15, 10, 6, 12, 14, 11, 9, 15]\n",
      "starting node: 2\n",
      "[1, 2, -1, 2, 0, 6, 2, 3, 4, 10, 6, 10, 13, 14, 10, 11]\n",
      "[4, 1, 0, 4, 9, 7, 2, 10, 16, 9, 5, 11, 13, 10, 8, 14]\n",
      "starting node: 3\n",
      "[1, 2, 3, -1, 0, 6, 2, 3, 4, 10, 6, 7, 13, 14, 10, 11]\n",
      "[8, 5, 4, 0, 13, 11, 6, 6, 20, 13, 9, 8, 17, 14, 12, 11]\n",
      "starting node: 4\n",
      "[4, 0, 1, 2, -1, 4, 5, 6, 4, 5, 6, 10, 8, 9, 10, 11]\n",
      "[5, 8, 9, 13, 0, 3, 8, 16, 7, 12, 11, 17, 13, 16, 14, 20]\n",
      "starting node: 5\n",
      "[4, 2, 6, 2, 5, -1, 5, 6, 4, 5, 6, 10, 8, 9, 10, 11]\n",
      "[8, 8, 7, 11, 3, 0, 5, 13, 10, 9, 8, 14, 16, 13, 11, 17]\n",
      "starting node: 6\n",
      "[1, 2, 6, 2, 5, 6, -1, 6, 4, 10, 6, 10, 13, 14, 10, 11]\n",
      "[6, 3, 2, 6, 8, 5, 0, 8, 15, 7, 3, 9, 11, 8, 6, 12]\n",
      "starting node: 7\n",
      "[1, 2, 3, 7, 5, 6, 7, -1, 9, 10, 11, 7, 13, 14, 10, 11]\n",
      "[14, 11, 10, 6, 16, 13, 8, 0, 20, 12, 8, 2, 16, 13, 11, 5]\n",
      "starting node: 8\n",
      "[4, 0, 1, 2, 8, 4, 5, 11, -1, 8, 9, 10, 8, 12, 13, 14]\n",
      "[12, 15, 16, 20, 7, 10, 15, 20, 0, 8, 12, 18, 6, 9, 11, 18]\n",
      "starting node: 9\n",
      "[1, 2, 6, 2, 5, 9, 10, 11, 9, -1, 9, 10, 13, 9, 13, 11]\n",
      "[13, 10, 9, 13, 12, 9, 7, 12, 8, 0, 4, 10, 7, 4, 6, 13]\n",
      "starting node: 10\n",
      "[1, 2, 6, 2, 5, 6, 10, 11, 9, 10, -1, 10, 13, 14, 10, 11]\n",
      "[9, 6, 5, 9, 11, 8, 3, 8, 12, 4, 0, 6, 8, 5, 3, 9]\n",
      "starting node: 11\n",
      "[1, 2, 6, 7, 5, 6, 10, 11, 9, 10, 11, -1, 13, 14, 10, 11]\n",
      "[15, 12, 11, 8, 17, 14, 9, 2, 18, 10, 6, 0, 14, 11, 9, 3]\n",
      "starting node: 12\n",
      "[1, 2, 6, 2, 8, 4, 10, 11, 12, 13, 14, 10, -1, 12, 13, 14]\n",
      "[17, 14, 13, 17, 13, 16, 11, 16, 6, 7, 8, 14, 0, 3, 5, 12]\n",
      "starting node: 13\n",
      "[1, 2, 6, 2, 5, 9, 10, 11, 12, 13, 14, 10, 13, -1, 13, 14]\n",
      "[14, 11, 10, 14, 16, 13, 8, 13, 9, 4, 5, 11, 3, 0, 2, 9]\n",
      "starting node: 14\n",
      "[1, 2, 6, 2, 5, 6, 10, 11, 12, 13, 14, 10, 13, 14, -1, 14]\n",
      "[12, 9, 8, 12, 14, 11, 6, 11, 11, 6, 3, 9, 5, 2, 0, 7]\n",
      "starting node: 15\n",
      "[1, 2, 6, 7, 5, 6, 10, 11, 12, 10, 11, 15, 13, 14, 15, -1]\n",
      "[18, 15, 14, 11, 20, 17, 12, 5, 18, 13, 9, 3, 12, 9, 7, 0]\n"
     ]
    }
   ],
   "source": [
    "for i in range(len(dist)):\n",
    "    dist[i][i] = 0\n",
    "for s in sorted(g.keys()):\n",
    "    print('starting node:', s)\n",
    "    print(pred[s])\n",
    "    print(dist[s])"
   ]
  }
 ],
 "metadata": {
  "celltoolbar": "Slideshow",
  "kernelspec": {
   "display_name": "Python 3",
   "language": "python",
   "name": "python3"
  },
  "language_info": {
   "codemirror_mode": {
    "name": "ipython",
    "version": 3
   },
   "file_extension": ".py",
   "mimetype": "text/x-python",
   "name": "python",
   "nbconvert_exporter": "python",
   "pygments_lexer": "ipython3",
   "version": "3.6.1"
  }
 },
 "nbformat": 4,
 "nbformat_minor": 1
}

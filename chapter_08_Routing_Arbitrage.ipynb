{
 "cells": [
  {
   "cell_type": "markdown",
   "metadata": {
    "slideshow": {
     "slide_type": "slide"
    }
   },
   "source": [
    "# Routing, Arbitrage\n",
    "\n",
    "Chapter 8 of [Real World Algorithms](https://mitpress.mit.edu/books/real-world-algorithms).\n",
    "\n",
    "---\n",
    "\n",
    "> Panos Louridas<br />\n",
    "> Athens University of Economics and Business"
   ]
  },
  {
   "cell_type": "markdown",
   "metadata": {
    "slideshow": {
     "slide_type": "slide"
    }
   },
   "source": [
    "## The Bellman-Ford(-Moore) Algorithm\n",
    "\n",
    "The Bellman-Ford(-Moore) algorithm is an alternative to Dijkstra's algorithm for finding shortest paths in graphs.\n",
    "\n",
    "The basic idea is that we find the shortest paths from a start node to other nodes by using 1, 2, $n-1$ links, where $n$ is the number of nodes in the graph.\n",
    "\n",
    "So we start with shortest paths that have only one link, then with two links, and so on."
   ]
  },
  {
   "cell_type": "markdown",
   "metadata": {
    "slideshow": {
     "slide_type": "slide"
    }
   },
   "source": [
    "We will use the following function to read weighted graphs from files containing one line per edge.\n",
    "\n",
    "This is familiar, it is the same that we used with Dijkstra's algorithm."
   ]
  },
  {
   "cell_type": "code",
   "execution_count": 1,
   "metadata": {
    "slideshow": {
     "slide_type": "slide"
    }
   },
   "outputs": [],
   "source": [
    "def read_graph(filename, directed=False):\n",
    "    graph = {}\n",
    "    with open(filename) as input_file:\n",
    "        for line in input_file:\n",
    "            parts = line.split()\n",
    "            if len(parts) != 3:\n",
    "                continue # not a valid line, ignore\n",
    "            [n1, n2, w] = [ int (x) for x in parts ]\n",
    "            if n1 not in graph:\n",
    "                graph[n1] = []\n",
    "            if n2 not in graph:\n",
    "                graph[n2] = []\n",
    "            graph[n1].append((n2, w))\n",
    "            if not directed:\n",
    "                graph[n2].append((n1, w))\n",
    "    return graph"
   ]
  },
  {
   "cell_type": "markdown",
   "metadata": {
    "slideshow": {
     "slide_type": "slide"
    }
   },
   "source": [
    "As a first example we will use the traffic grid graph again.\n",
    "\n",
    "<img width=\"400\" src=\"traffic_grid_graph.png\"/>"
   ]
  },
  {
   "cell_type": "markdown",
   "metadata": {
    "slideshow": {
     "slide_type": "slide"
    }
   },
   "source": [
    "We go ahead and read it."
   ]
  },
  {
   "cell_type": "code",
   "execution_count": 2,
   "metadata": {
    "slideshow": {
     "slide_type": "fragment"
    }
   },
   "outputs": [
    {
     "name": "stdout",
     "output_type": "stream",
     "text": [
      "{0: [(1, 3), (4, 5)],\n",
      " 1: [(0, 3), (5, 9), (2, 1)],\n",
      " 2: [(1, 1), (6, 2), (3, 4)],\n",
      " 3: [(2, 4), (7, 6)],\n",
      " 4: [(0, 5), (5, 3), (8, 7)],\n",
      " 5: [(1, 9), (4, 3), (9, 9), (6, 5)],\n",
      " 6: [(2, 2), (5, 5), (10, 3), (7, 8)],\n",
      " 7: [(3, 6), (6, 8), (11, 2)],\n",
      " 8: [(4, 7), (12, 6), (9, 8)],\n",
      " 9: [(5, 9), (8, 8), (13, 4), (10, 4)],\n",
      " 10: [(6, 3), (9, 4), (14, 3), (11, 6)],\n",
      " 11: [(7, 2), (10, 6), (15, 3)],\n",
      " 12: [(8, 6), (13, 3)],\n",
      " 13: [(9, 4), (12, 3), (14, 2)],\n",
      " 14: [(10, 3), (13, 2), (15, 7)],\n",
      " 15: [(11, 3), (14, 7)]}\n"
     ]
    }
   ],
   "source": [
    "import pprint\n",
    "\n",
    "g = read_graph('traffic_grid_graph.txt')\n",
    "pprint.pprint(g)"
   ]
  },
  {
   "cell_type": "markdown",
   "metadata": {
    "slideshow": {
     "slide_type": "slide"
    }
   },
   "source": [
    "We need a substitute for $\\infty$ in the algorithm.\n",
    "\n",
    "We will use `sys.maxsize` as a substitute for $\\infty$ .\n",
    "\n",
    "In Python there is no predefined maximum integer; `sys.maxsize` gives the maximum 32 bit or 64 bit integer, depending on the machine.\n",
    "\n",
    "If that is not enough, we could simply assign a larger value."
   ]
  },
  {
   "cell_type": "code",
   "execution_count": 3,
   "metadata": {
    "slideshow": {
     "slide_type": "fragment"
    }
   },
   "outputs": [],
   "source": [
    "import sys \n",
    "\n",
    "MAX_INT = sys.maxsize"
   ]
  },
  {
   "cell_type": "markdown",
   "metadata": {
    "slideshow": {
     "slide_type": "slide"
    }
   },
   "source": [
    "The Bellman-Ford(-Moore) algorithm in Python is as follows; note that we just call it `bellman_ford(g, s)`."
   ]
  },
  {
   "cell_type": "code",
   "execution_count": 4,
   "metadata": {
    "slideshow": {
     "slide_type": "fragment"
    }
   },
   "outputs": [],
   "source": [
    "def bellman_ford(g, s):\n",
    "    nodes = g.keys()\n",
    "    num_nodes = len(nodes)\n",
    "    # Initialize array holding path lengths.\n",
    "    dist = [ MAX_INT ] * num_nodes\n",
    "    dist[s] = 0\n",
    "    # Initialize array holding node predecessors.\n",
    "    pred = [ -1 ] * num_nodes\n",
    "\n",
    "    # Try using paths of length up to num_nodes\n",
    "    for i in range(num_nodes - 1):\n",
    "        # Try all edges: get all nodes...\n",
    "        for u in nodes: \n",
    "            # ...then for each node get all edges.\n",
    "            for v, w in g[u]:\n",
    "                # If the path to node v is bigger than the path to\n",
    "                # node u and then the edge to v, update it.\n",
    "                # If the distance to u is MAX_INT, it means we\n",
    "                # have not reached it yet, so we should ignore it.\n",
    "                if dist[u] != MAX_INT and dist[v] > dist[u] + w:\n",
    "                    dist[v] = dist[u] + w\n",
    "                    pred[v] = u\n",
    "    \n",
    "    return (pred, dist)"
   ]
  },
  {
   "cell_type": "markdown",
   "metadata": {
    "slideshow": {
     "slide_type": "slide"
    }
   },
   "source": [
    "We can apply it directly on our traffic grid graph:"
   ]
  },
  {
   "cell_type": "code",
   "execution_count": 5,
   "metadata": {},
   "outputs": [
    {
     "name": "stdout",
     "output_type": "stream",
     "text": [
      "pred [-1, 0, 1, 2, 0, 4, 2, 6, 4, 10, 6, 10, 13, 14, 10, 11]\n",
      "dist [0, 3, 4, 8, 5, 8, 6, 14, 12, 13, 9, 15, 17, 14, 12, 18]\n"
     ]
    }
   ],
   "source": [
    "pred, dist = bellman_ford(g, 0)\n",
    "print('pred', pred)\n",
    "print('dist', dist)"
   ]
  },
  {
   "cell_type": "markdown",
   "metadata": {
    "slideshow": {
     "slide_type": "slide"
    }
   },
   "source": [
    "We can improve on our implementation by noting that at each iteration we do not need to check all edges.\n",
    "\n",
    "In particular, at each iteration of the algorithm, instead of checking all edges, we need to check only the edges of the nodes whose estimates we updated at the previous iteration.\n",
    "\n",
    "To do that, we will use a First-In First-Out (FIFO) queue, which we'll get from Python's [`deque`](https://docs.python.org/3/library/collections.html#collections.deque).\n"
   ]
  },
  {
   "cell_type": "markdown",
   "metadata": {
    "slideshow": {
     "slide_type": "slide"
    }
   },
   "source": [
    "Each time we update an edge we will add the target node in the queue.\n",
    "\n",
    "We will get the edges to check in each iteration by getting the edges of the first node in the queue each time.\n",
    "\n",
    "We will kick-off the process by adding the source node into the queue.\n",
    "\n",
    "We'll call the implementation `bellman_ford_qb(g, s)`, where `qb` stands for \"queue-based\".\n"
   ]
  },
  {
   "cell_type": "code",
   "execution_count": 6,
   "metadata": {
    "slideshow": {
     "slide_type": "slide"
    }
   },
   "outputs": [],
   "source": [
    "import collections\n",
    "\n",
    "def bellman_ford_qb(g, s):\n",
    "    nodes = g.keys()\n",
    "    num_nodes = len(nodes)\n",
    "    # Initialize array holding path lengths.\n",
    "    dist = [ MAX_INT ] * num_nodes\n",
    "    dist[s] = 0\n",
    "    # Initialize array holding node predecessors.\n",
    "    pred = [ -1 ] * num_nodes\n",
    "    # Initialize queue.\n",
    "    q = collections.deque()\n",
    "    # We'll use a list to check whether something\n",
    "    # is already in the queue, so that we won't\n",
    "    # add it twice.\n",
    "    in_queue = [ False ] * num_nodes\n",
    "    # We start by putting the starting node in the queue.\n",
    "    in_queue[s] = True\n",
    "    q.append(s)\n",
    "\n",
    "    # While the queue is not empty:\n",
    "    while len(q) != 0:\n",
    "        u = q.popleft()\n",
    "        in_queue[u] = False\n",
    "        # For every edge of the current node, check\n",
    "        # and update if needed.\n",
    "        for (v, w) in g[u]:\n",
    "            if dist[u] != MAX_INT and dist[v] > dist[u] + w:\n",
    "                dist[v] = dist[u] + w\n",
    "                pred[v] = u\n",
    "                # Add the node of the updated path in the queue\n",
    "                # if necessary.\n",
    "                if in_queue[v] == False:\n",
    "                    q.append(v)\n",
    "                    in_queue[v] = True\n",
    "\n",
    "    return (pred, dist)\n"
   ]
  },
  {
   "cell_type": "markdown",
   "metadata": {
    "slideshow": {
     "slide_type": "slide"
    }
   },
   "source": [
    "Here are the results of the algorithm on the traffic grid example:"
   ]
  },
  {
   "cell_type": "code",
   "execution_count": 7,
   "metadata": {
    "slideshow": {
     "slide_type": "fragment"
    }
   },
   "outputs": [
    {
     "name": "stdout",
     "output_type": "stream",
     "text": [
      "pred [-1, 0, 1, 2, 0, 4, 2, 6, 4, 10, 6, 10, 13, 14, 10, 11]\n",
      "dist [0, 3, 4, 8, 5, 8, 6, 14, 12, 13, 9, 15, 17, 14, 12, 18]\n"
     ]
    }
   ],
   "source": [
    "pred, dist = bellman_ford_qb(g, 0)\n",
    "print('pred', pred)\n",
    "print('dist', dist)"
   ]
  },
  {
   "cell_type": "markdown",
   "metadata": {
    "slideshow": {
     "slide_type": "slide"
    }
   },
   "source": [
    "The Bellman-Ford(-Mooore) algorithm is generally slower than Dijkstra's, but it handle graphs with negative weights.\n",
    "\n",
    "Consider again the [negative_weights_graph.txt](negative_weights_graph.txt):\n",
    "\n",
    "<img width=\"150\" src=\"negative_weights_graph.png\"/>"
   ]
  },
  {
   "cell_type": "markdown",
   "metadata": {
    "slideshow": {
     "slide_type": "slide"
    }
   },
   "source": [
    "We go ahead and read it:"
   ]
  },
  {
   "cell_type": "code",
   "execution_count": 8,
   "metadata": {
    "slideshow": {
     "slide_type": "fragment"
    }
   },
   "outputs": [
    {
     "name": "stdout",
     "output_type": "stream",
     "text": [
      "{0: [(1, 5), (2, 4), (3, 3)], 1: [(2, -4)], 2: [(3, 1)], 3: []}\n"
     ]
    }
   ],
   "source": [
    "g = read_graph('negative_weights_graph.txt', directed=True)\n",
    "pprint.pprint(g)"
   ]
  },
  {
   "cell_type": "markdown",
   "metadata": {
    "slideshow": {
     "slide_type": "slide"
    }
   },
   "source": [
    "Then if we try `bellman_ford(g, s)` on it, we'll see that we get the right results:"
   ]
  },
  {
   "cell_type": "code",
   "execution_count": 9,
   "metadata": {
    "slideshow": {
     "slide_type": "fragment"
    }
   },
   "outputs": [
    {
     "name": "stdout",
     "output_type": "stream",
     "text": [
      "pred [-1, 0, 1, 2]\n",
      "dist [0, 5, 1, 2]\n"
     ]
    }
   ],
   "source": [
    "pred, dist = bellman_ford(g, 0)\n",
    "print('pred', pred)\n",
    "print('dist', dist)"
   ]
  },
  {
   "cell_type": "markdown",
   "metadata": {
    "slideshow": {
     "slide_type": "slide"
    }
   },
   "source": [
    "The same with the queue-based version:\n",
    " "
   ]
  },
  {
   "cell_type": "code",
   "execution_count": 10,
   "metadata": {
    "slideshow": {
     "slide_type": "fragment"
    }
   },
   "outputs": [
    {
     "name": "stdout",
     "output_type": "stream",
     "text": [
      "pred [-1, 0, 1, 2]\n",
      "dist [0, 5, 1, 2]\n"
     ]
    }
   ],
   "source": [
    "pred, dist = bellman_ford_qb(g, 0)\n",
    "print('pred', pred)\n",
    "print('dist', dist)"
   ]
  },
  {
   "cell_type": "markdown",
   "metadata": {
    "slideshow": {
     "slide_type": "slide"
    }
   },
   "source": [
    "What about negative cycles?\n",
    "\n",
    "Consider the [negative_cycle_graph.txt](negative_cycle_graph.txt):\n",
    "\n",
    "<img width=\"220\" src=\"negative_cycle_graph.png\"/>\n",
    "\n"
   ]
  },
  {
   "cell_type": "markdown",
   "metadata": {
    "slideshow": {
     "slide_type": "slide"
    }
   },
   "source": [
    "We go ahead and read it:"
   ]
  },
  {
   "cell_type": "code",
   "execution_count": 11,
   "metadata": {
    "slideshow": {
     "slide_type": "fragment"
    }
   },
   "outputs": [
    {
     "name": "stdout",
     "output_type": "stream",
     "text": [
      "{0: [(1, 1)], 1: [(2, 2)], 2: [(3, 3)], 3: [(1, -6), (4, 4)], 4: [(0, 5)]}\n"
     ]
    }
   ],
   "source": [
    "g = read_graph('negative_cycle_graph.txt', directed=True)\n",
    "pprint.pprint(g)"
   ]
  },
  {
   "cell_type": "markdown",
   "metadata": {
    "slideshow": {
     "slide_type": "slide"
    }
   },
   "source": [
    "Then we try bellman_ford(g, s) on it, and see what we get:"
   ]
  },
  {
   "cell_type": "code",
   "execution_count": 12,
   "metadata": {
    "slideshow": {
     "slide_type": "fragment"
    }
   },
   "outputs": [
    {
     "name": "stdout",
     "output_type": "stream",
     "text": [
      "pred [-1, 3, 1, 2, 3]\n",
      "dist [0, -3, 0, 3, 7]\n"
     ]
    }
   ],
   "source": [
    "pred, dist = bellman_ford(g, 0)\n",
    "print('pred', pred)\n",
    "print('dist', dist)"
   ]
  },
  {
   "cell_type": "markdown",
   "metadata": {
    "slideshow": {
     "slide_type": "slide"
    }
   },
   "source": [
    "The algorithm terminates, but the results do not make much sense.\n",
    "\n",
    "For example, the distance to node 1 is -3, but in fact it is $-\\infty$, as we can go round and round the negative cycle.\n",
    "\n",
    "The real problem is that we did not get any indication that the results are bogus because of negative cycles."
   ]
  },
  {
   "cell_type": "markdown",
   "metadata": {
    "slideshow": {
     "slide_type": "slide"
    }
   },
   "source": [
    "To fix this problem, we will be adding to the queue a special, *sentinel* node.\n",
    "\n",
    "That is a fictitious node that does not exist in the graph.\n",
    "\n",
    "It will demarkate each set of neighbours that we add in the queue.\n",
    "\n",
    "Each time we meet it in the queue we will know that we have handled the complete set of neighbours of one node.\n",
    "\n",
    "This cannot happen more than $n$ times, where $n$ is the number of nodes; so if it does, we have reached a negative cycle."
   ]
  },
  {
   "cell_type": "code",
   "execution_count": 13,
   "metadata": {
    "slideshow": {
     "slide_type": "slide"
    }
   },
   "outputs": [],
   "source": [
    "def bellman_ford_nc(g, s):\n",
    "    nodes = g.keys()\n",
    "    num_nodes = len(nodes)\n",
    "    # The sentinel is equal to the number of nodes,\n",
    "    # as the nodes start from 0.\n",
    "    sentinel = num_nodes\n",
    "    # Initialize array holding path lengths.\n",
    "    dist = [ MAX_INT ] * num_nodes\n",
    "    dist[s] = 0\n",
    "    # Initialize array holding node predecessors.\n",
    "    pred = [ -1 ] * num_nodes\n",
    "    q = collections.deque()\n",
    "    # We'll use a list to check whether something\n",
    "    # is already in the queue, so that we won't\n",
    "    # add it twice.\n",
    "    in_queue = [ False ] * num_nodes\n",
    "    in_queue[s] = True\n",
    "    # We start by putting the starting node and the\n",
    "    # sentinel in the queue.\n",
    "    q.append(s)\n",
    "    q.append(sentinel)\n",
    "    \n",
    "    i = 1 # number of iterations\n",
    "    # Repeat as long as the queue contains more than one\n",
    "    # element (the sentinel) and we have not handled\n",
    "    # the neighbours of all nodes.\n",
    "    while len(q) != 1 and i < num_nodes:\n",
    "        u = q.popleft()\n",
    "        # If we have reached the sentinel, update the\n",
    "        # nodes count and put the sentinel back in the\n",
    "        # queue.\n",
    "        if u == sentinel:\n",
    "            i += 1\n",
    "            q.append(sentinel)\n",
    "        else:\n",
    "            in_queue[u] = False\n",
    "            # For every edge of the current node, check\n",
    "            # and update if needed.\n",
    "            for (v, w) in g[u]:\n",
    "                if dist[u] != MAX_INT and dist[v] > dist[u] + w:\n",
    "                    dist[v] = dist[u] + w\n",
    "                    pred[v] = u\n",
    "                    # Add the node of the updated path in the queue\n",
    "                    # if necessary.\n",
    "                    if in_queue[v] == False:\n",
    "                        q.append(v)\n",
    "                        in_queue[v] = True\n",
    "\n",
    "    return (pred, dist, i < num_nodes)"
   ]
  },
  {
   "cell_type": "markdown",
   "metadata": {
    "slideshow": {
     "slide_type": "slide"
    }
   },
   "source": [
    "So now we are able to handle graphs with negative weights and detect cycles:"
   ]
  },
  {
   "cell_type": "code",
   "execution_count": 14,
   "metadata": {
    "slideshow": {
     "slide_type": "fragment"
    }
   },
   "outputs": [
    {
     "name": "stdout",
     "output_type": "stream",
     "text": [
      "pred [-1, 3, 1, 2, 3]\n",
      "dist [0, 0, 3, 6, 10]\n",
      "no_negative_cycle False\n"
     ]
    }
   ],
   "source": [
    "pred, dist, no_negative_cycle = bellman_ford_nc(g, 0)\n",
    "print('pred', pred)\n",
    "print('dist', dist)\n",
    "print('no_negative_cycle', no_negative_cycle)"
   ]
  }
 ],
 "metadata": {
  "celltoolbar": "Slideshow",
  "kernelspec": {
   "display_name": "Python 3",
   "language": "python",
   "name": "python3"
  },
  "language_info": {
   "codemirror_mode": {
    "name": "ipython",
    "version": 3
   },
   "file_extension": ".py",
   "mimetype": "text/x-python",
   "name": "python",
   "nbconvert_exporter": "python",
   "pygments_lexer": "ipython3",
   "version": "3.7.6"
  }
 },
 "nbformat": 4,
 "nbformat_minor": 1
}

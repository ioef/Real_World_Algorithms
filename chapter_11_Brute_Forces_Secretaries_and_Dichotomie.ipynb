{
 "cells": [
  {
   "cell_type": "markdown",
   "metadata": {
    "slideshow": {
     "slide_type": "slide"
    }
   },
   "source": [
    "# Brute Forces, Secretaries, and Dichotomies\n",
    "\n",
    "Chapter 11 of [Real World Algorithms](https://mitpress.mit.edu/books/real-world-algorithms).\n",
    "\n",
    "---\n",
    "\n",
    "> Panos Louridas<br />\n",
    "> Athens University of Economics and Business"
   ]
  },
  {
   "cell_type": "markdown",
   "metadata": {
    "slideshow": {
     "slide_type": "slide"
    }
   },
   "source": [
    "## Sequential Search\n",
    "\n",
    "Sequential search is perhaps the most straightforward search method.\n",
    "\n",
    "We start from the beginning and check each item in turn until we find the one we want.\n",
    "\n",
    "It can be used for both sorted and unsorted data, but there are much better methods for sorted data.\n",
    "\n",
    "Here is a straightforward implementation:"
   ]
  },
  {
   "cell_type": "code",
   "execution_count": 1,
   "metadata": {
    "slideshow": {
     "slide_type": "slide"
    }
   },
   "outputs": [],
   "source": [
    "def sequential_search(a, s):\n",
    "    for i, element in enumerate(a):\n",
    "        if element == s:\n",
    "            return i\n",
    "    return -1"
   ]
  },
  {
   "cell_type": "markdown",
   "metadata": {
    "slideshow": {
     "slide_type": "slide"
    }
   },
   "source": [
    "Let's check it on a random list:"
   ]
  },
  {
   "cell_type": "code",
   "execution_count": 2,
   "metadata": {
    "slideshow": {
     "slide_type": "fragment"
    }
   },
   "outputs": [
    {
     "name": "stdout",
     "output_type": "stream",
     "text": [
      "314 found at 942\n",
      "-1\n"
     ]
    }
   ],
   "source": [
    "import random\n",
    "\n",
    "a = list(range(1000))\n",
    "random.shuffle(a)\n",
    "\n",
    "pos = sequential_search(a, 314)\n",
    "print(a[pos], 'found at', pos)\n",
    "\n",
    "pos = sequential_search(a, 1001)\n",
    "print(pos)"
   ]
  },
  {
   "cell_type": "markdown",
   "metadata": {
    "slideshow": {
     "slide_type": "slide"
    }
   },
   "source": [
    "We need not write `sequential_search(a, s)` in Python. \n",
    "\n",
    "If `a` is a list, we can use `a.index(s)` instead.\n",
    "\n",
    "In fact that's what we should do, because it is way faster (we saw that also in Chapter 7)."
   ]
  },
  {
   "cell_type": "markdown",
   "metadata": {
    "slideshow": {
     "slide_type": "slide"
    }
   },
   "source": [
    "Here is the timing for our version:"
   ]
  },
  {
   "cell_type": "code",
   "execution_count": 3,
   "metadata": {
    "slideshow": {
     "slide_type": "fragment"
    }
   },
   "outputs": [
    {
     "name": "stdout",
     "output_type": "stream",
     "text": [
      "0.028058045892976224\n"
     ]
    }
   ],
   "source": [
    "import timeit\n",
    "\n",
    "total_elapsed = 0\n",
    "for i in range(100):\n",
    "    a = list(range(10000))\n",
    "    random.shuffle(a)\n",
    "    start = timeit.default_timer()\n",
    "    index = sequential_search(a, 314)\n",
    "    end = timeit.default_timer()\n",
    "    total_elapsed += end - start\n",
    "print(total_elapsed)"
   ]
  },
  {
   "cell_type": "markdown",
   "metadata": {
    "slideshow": {
     "slide_type": "slide"
    }
   },
   "source": [
    "And here is the timing for the native version (which actually calls a function written in C):"
   ]
  },
  {
   "cell_type": "code",
   "execution_count": 4,
   "metadata": {
    "slideshow": {
     "slide_type": "fragment"
    }
   },
   "outputs": [
    {
     "name": "stdout",
     "output_type": "stream",
     "text": [
      "0.006791955849621445\n"
     ]
    }
   ],
   "source": [
    "total_elapsed = 0\n",
    "for i in range(100):\n",
    "    a = list(range(10000))\n",
    "    random.shuffle(a)\n",
    "    start = timeit.default_timer()\n",
    "    index = a.index(314)\n",
    "    end = timeit.default_timer()\n",
    "    total_elapsed += end - start\n",
    "\n",
    "print(total_elapsed)"
   ]
  },
  {
   "cell_type": "markdown",
   "metadata": {
    "slideshow": {
     "slide_type": "slide"
    }
   },
   "source": [
    "## Matching, Comparing, Records, Keys\n",
    "\n",
    "When we are searching for an item in the list, Python performs an equality test between each item and the item we are searching for.\n",
    "\n",
    "The equality test is performed with the operator `==`.\n",
    "\n",
    "Checking for equality is not the same as checking whether two items are the *same*.\n",
    "\n",
    "This is called *strict comparison* and in Python it is implemented with the operator `is`."
   ]
  },
  {
   "cell_type": "markdown",
   "metadata": {
    "slideshow": {
     "slide_type": "slide"
    }
   },
   "source": [
    "That means that the following two are equal:"
   ]
  },
  {
   "cell_type": "code",
   "execution_count": 5,
   "metadata": {
    "slideshow": {
     "slide_type": "slide"
    }
   },
   "outputs": [
    {
     "data": {
      "text/plain": [
       "True"
      ]
     },
     "execution_count": 5,
     "metadata": {},
     "output_type": "execute_result"
    }
   ],
   "source": [
    "an_item = (1, 2)\n",
    "\n",
    "another_item = (1, 2)\n",
    "\n",
    "an_item == another_item"
   ]
  },
  {
   "cell_type": "markdown",
   "metadata": {
    "slideshow": {
     "slide_type": "slide"
    }
   },
   "source": [
    "But they are not the same:"
   ]
  },
  {
   "cell_type": "code",
   "execution_count": 6,
   "metadata": {
    "slideshow": {
     "slide_type": "fragment"
    }
   },
   "outputs": [
    {
     "data": {
      "text/plain": [
       "False"
      ]
     },
     "execution_count": 6,
     "metadata": {},
     "output_type": "execute_result"
    }
   ],
   "source": [
    "an_item is another_item"
   ]
  },
  {
   "cell_type": "markdown",
   "metadata": {
    "slideshow": {
     "slide_type": "slide"
    }
   },
   "source": [
    "As another example, let's see what happens with Python's support for complex numbers:"
   ]
  },
  {
   "cell_type": "code",
   "execution_count": 7,
   "metadata": {
    "slideshow": {
     "slide_type": "fragment"
    }
   },
   "outputs": [
    {
     "name": "stdout",
     "output_type": "stream",
     "text": [
      "True\n",
      "False\n"
     ]
    }
   ],
   "source": [
    "x = 3.14+1.62j\n",
    "y = 3.14+1.62j\n",
    "print(x == y)\n",
    "print(x is y)"
   ]
  },
  {
   "cell_type": "markdown",
   "metadata": {
    "slideshow": {
     "slide_type": "slide"
    }
   },
   "source": [
    "String comparison is must faster than equality checking, but it is not what we usually want to use.\n",
    "\n",
    "A common idiom for identity checking in Python is checking for `None`, like `if a is None` or `if a is not None`."
   ]
  },
  {
   "cell_type": "markdown",
   "metadata": {
    "slideshow": {
     "slide_type": "slide"
    }
   },
   "source": [
    "In many cases, we hold information for entities in *records*, which are collections of *attributes*.\n",
    "\n",
    "In that case, we want to search for an entity based on a particular attribute that identifies it.\n",
    "\n",
    "The attribute is called a *key*."
   ]
  },
  {
   "cell_type": "markdown",
   "metadata": {
    "slideshow": {
     "slide_type": "slide"
    }
   },
   "source": [
    "In Python we can represent records as *objects* that are instances of a class.\n",
    "\n",
    "Alternatively, we can represent them as dictionaries.\n",
    "\n",
    "In fact, Python objects use dictionaries internally.\n",
    "\n",
    "Let's get a list of two persons."
   ]
  },
  {
   "cell_type": "code",
   "execution_count": 8,
   "metadata": {
    "slideshow": {
     "slide_type": "slide"
    }
   },
   "outputs": [],
   "source": [
    "john = {\n",
    "    'first_name': 'John',\n",
    "    'surname': 'Doe',\n",
    "    'passport_no': 'AI892495',\n",
    "    'year_of_birth': 1990,\n",
    "    'occupation': 'teacher'\n",
    "}\n",
    "\n",
    "jane = {\n",
    "    'first_name': 'Jane',\n",
    "    'surname': 'Roe',\n",
    "    'passport_no': 'AI485713',\n",
    "    'year_of_birth': 1986,\n",
    "    'occupation': 'civil engineer'\n",
    "}\n",
    "\n",
    "persons = [john, jane]"
   ]
  },
  {
   "cell_type": "markdown",
   "metadata": {
    "slideshow": {
     "slide_type": "slide"
    }
   },
   "source": [
    "In this example, the key for our search would be the passport number, because we would like to find the full information for a person with that particular piece of identification.\n",
    "\n",
    "To do that we could re-implement sequential search so that we provide to it the comparison function."
   ]
  },
  {
   "cell_type": "code",
   "execution_count": 9,
   "metadata": {
    "slideshow": {
     "slide_type": "fragment"
    }
   },
   "outputs": [
    {
     "name": "stdout",
     "output_type": "stream",
     "text": [
      "{'first_name': 'Jane', 'surname': 'Roe', 'passport_no': 'AI485713', 'year_of_birth': 1986, 'occupation': 'civil engineer'} found at 1\n"
     ]
    }
   ],
   "source": [
    "def sequential_search_m(a, s, matches):\n",
    "    for i, element in enumerate(a):\n",
    "        if matches(element, s):\n",
    "            return i\n",
    "    return -1\n",
    "\n",
    "def match_passport(person, passport_no):\n",
    "    return person['passport_no'] == passport_no\n",
    "\n",
    "pos = sequential_search_m(persons, 'AI485713', match_passport)\n",
    "print(persons[pos], 'found at', pos)"
   ]
  },
  {
   "cell_type": "markdown",
   "metadata": {
    "slideshow": {
     "slide_type": "slide"
    }
   },
   "source": [
    "Although you would probably use something more Pythonic like:"
   ]
  },
  {
   "cell_type": "code",
   "execution_count": 10,
   "metadata": {
    "slideshow": {
     "slide_type": "fragment"
    }
   },
   "outputs": [
    {
     "data": {
      "text/plain": [
       "[(1,\n",
       "  {'first_name': 'Jane',\n",
       "   'surname': 'Roe',\n",
       "   'passport_no': 'AI485713',\n",
       "   'year_of_birth': 1986,\n",
       "   'occupation': 'civil engineer'})]"
      ]
     },
     "execution_count": 10,
     "metadata": {},
     "output_type": "execute_result"
    }
   ],
   "source": [
    "results = [(i, p) for i, p in enumerate(persons) if p['passport_no'] == 'AI485713']\n",
    "results"
   ]
  },
  {
   "cell_type": "markdown",
   "metadata": {
    "slideshow": {
     "slide_type": "slide"
    }
   },
   "source": [
    "## Self-Organizing Search\n",
    "\n",
    "In self-organizing search, we take advantage of an item's popularity to move it to the front of the collection in which we are performing our searches.\n",
    "\n",
    "In the move-to-front method, when we find an item we move it directly to the front.\n",
    "\n",
    "In the transposition method, when we find an item we swap it with its predecessor (if any)."
   ]
  },
  {
   "cell_type": "markdown",
   "metadata": {
    "slideshow": {
     "slide_type": "slide"
    }
   },
   "source": [
    "We cannot implement directly the algorithms for lists given in the book (that is, algorithm 11.2 and algorithm 11.3) for the simple reason that Python hides the list implementation from us.\n",
    "\n",
    "Moreover, Python lists are *not* linked lists. They are variable-length arrays (see the online documentation for details on the [implementation of lists in Python](https://docs.python.org/3/faq/design.html#how-are-lists-implemented)).\n",
    "\n",
    "We can implement algorithm 11.3, which is the transposition method for arrays."
   ]
  },
  {
   "cell_type": "code",
   "execution_count": 11,
   "metadata": {
    "slideshow": {
     "slide_type": "slide"
    }
   },
   "outputs": [],
   "source": [
    "def transposition_search(a, s):\n",
    "    for i, item in enumerate(a):\n",
    "        if item == s:\n",
    "            if i > 0:\n",
    "                a[i-1], a[i] = a[i], a[i-1]\n",
    "                return i-1\n",
    "            else:\n",
    "                return i\n",
    "    return -1"
   ]
  },
  {
   "cell_type": "markdown",
   "metadata": {
    "slideshow": {
     "slide_type": "slide"
    }
   },
   "source": [
    "How can we test `transposition_search(a, s)`?\n",
    "\n",
    "We need to do some groundwork to emulate a situation of popularity-biased searches.\n",
    "\n",
    "In particular, we will create a setting where the items we are searching for are governed by Zipf's law.\n",
    "\n",
    "First, we'll write a function that provides the Zipf probability for $n$ items."
   ]
  },
  {
   "cell_type": "code",
   "execution_count": 12,
   "metadata": {
    "slideshow": {
     "slide_type": "slide"
    }
   },
   "outputs": [],
   "source": [
    "def zipf(n):\n",
    "    h = 0\n",
    "    for x in range(1, n+1):\n",
    "        h += 1/x\n",
    "    z = [ 1/x * 1/h for x in range(1, n+1) ]\n",
    "    return z"
   ]
  },
  {
   "cell_type": "markdown",
   "metadata": {
    "slideshow": {
     "slide_type": "slide"
    }
   },
   "source": [
    "We'll work with 1000 items:"
   ]
  },
  {
   "cell_type": "code",
   "execution_count": 13,
   "metadata": {
    "slideshow": {
     "slide_type": "fragment"
    }
   },
   "outputs": [],
   "source": [
    "zipf_1000 = zipf(1000)"
   ]
  },
  {
   "cell_type": "markdown",
   "metadata": {
    "slideshow": {
     "slide_type": "slide"
    }
   },
   "source": [
    "We can check that they sum up to 1, and see the first 20 of the probabilities."
   ]
  },
  {
   "cell_type": "code",
   "execution_count": 14,
   "metadata": {
    "slideshow": {
     "slide_type": "fragment"
    }
   },
   "outputs": [
    {
     "name": "stdout",
     "output_type": "stream",
     "text": [
      "1.0000000000000018\n",
      "[0.13359213049244018, 0.06679606524622009, 0.044530710164146725, 0.033398032623110044, 0.026718426098488037, 0.022265355082073363, 0.019084590070348597, 0.016699016311555022, 0.014843570054715576, 0.013359213049244019, 0.012144739135676381, 0.011132677541036681, 0.010276317730187707, 0.009542295035174298, 0.008906142032829346, 0.008349508155777511, 0.007858360617202364, 0.007421785027357788, 0.007031164762760009, 0.006679606524622009]\n"
     ]
    }
   ],
   "source": [
    "print(sum(zipf_1000))\n",
    "print(zipf_1000[:20])"
   ]
  },
  {
   "cell_type": "markdown",
   "metadata": {
    "slideshow": {
     "slide_type": "slide"
    }
   },
   "source": [
    "Again we will be performing our searches on 1000 items, in random order."
   ]
  },
  {
   "cell_type": "code",
   "execution_count": 15,
   "metadata": {
    "slideshow": {
     "slide_type": "fragment"
    }
   },
   "outputs": [
    {
     "name": "stdout",
     "output_type": "stream",
     "text": [
      "[965, 274, 365, 189, 152, 107, 624, 641, 767, 475, 750, 824, 490, 524, 698, 211, 958, 607, 13, 599]\n"
     ]
    }
   ],
   "source": [
    "a = list(range(1000))\n",
    "random.shuffle(a)\n",
    "print(a[:20])"
   ]
  },
  {
   "cell_type": "markdown",
   "metadata": {
    "slideshow": {
     "slide_type": "slide"
    }
   },
   "source": [
    "We will perform 100000 searches among these items.\n",
    "\n",
    "We want the searches to follow Zipf's law.\n",
    "\n",
    "First, we will create another list of 1000 items in random order."
   ]
  },
  {
   "cell_type": "code",
   "execution_count": 16,
   "metadata": {
    "slideshow": {
     "slide_type": "fragment"
    }
   },
   "outputs": [
    {
     "name": "stdout",
     "output_type": "stream",
     "text": [
      "[934, 515, 787, 618, 387, 654, 322, 164, 810, 204, 453, 415, 109, 855, 402, 53, 728, 581, 280, 809]\n"
     ]
    }
   ],
   "source": [
    "b = list(range(1000))\n",
    "random.shuffle(b)\n",
    "print(b[:20])"
   ]
  },
  {
   "cell_type": "markdown",
   "metadata": {
    "slideshow": {
     "slide_type": "slide"
    }
   },
   "source": [
    "Then, we will select 100000 items from the second list, using the Zipf probabilities.\n",
    "\n",
    "That means that we will be selecting the first item with probability `zipf_1000[0]`, the second item with probability `zipf_1000[1]`, and so on.\n"
   ]
  },
  {
   "cell_type": "code",
   "execution_count": 17,
   "metadata": {
    "slideshow": {
     "slide_type": "fragment"
    }
   },
   "outputs": [],
   "source": [
    "searches = random.choices(b, weights=zipf_1000, k=100000)"
   ]
  },
  {
   "cell_type": "markdown",
   "metadata": {
    "slideshow": {
     "slide_type": "slide"
    }
   },
   "source": [
    "Indeed, we can verify that the popularity of items in `searches` mirrors `b`:"
   ]
  },
  {
   "cell_type": "code",
   "execution_count": 18,
   "metadata": {
    "slideshow": {
     "slide_type": "fragment"
    }
   },
   "outputs": [
    {
     "data": {
      "text/plain": [
       "[(934, 13486),\n",
       " (515, 6695),\n",
       " (787, 4358),\n",
       " (618, 3372),\n",
       " (387, 2703),\n",
       " (654, 2284),\n",
       " (322, 1879),\n",
       " (164, 1728),\n",
       " (810, 1461),\n",
       " (204, 1289),\n",
       " (453, 1224),\n",
       " (109, 1096),\n",
       " (415, 1073),\n",
       " (855, 941),\n",
       " (402, 845),\n",
       " (53, 808),\n",
       " (728, 774),\n",
       " (581, 759),\n",
       " (280, 709),\n",
       " (809, 701)]"
      ]
     },
     "execution_count": 18,
     "metadata": {},
     "output_type": "execute_result"
    }
   ],
   "source": [
    "from collections import Counter\n",
    "\n",
    "counted = Counter(searches)\n",
    "counted.most_common(20)\n"
   ]
  },
  {
   "cell_type": "markdown",
   "metadata": {
    "slideshow": {
     "slide_type": "slide"
    }
   },
   "source": [
    "So, we will perform 100000 searches in the first list, using as keys the items in `searches`.\n",
    "\n",
    "Because `transposition_search(a, s)` changes `a`, we will keep a copy of it to use it to compare the performance with simple sequential search.\n",
    "\n",
    "At the end, apart from displaying the time elapsed we will also show the first items of the changed `a`, to see how popular searches have gone to the beginning."
   ]
  },
  {
   "cell_type": "code",
   "execution_count": 19,
   "metadata": {
    "slideshow": {
     "slide_type": "slide"
    }
   },
   "outputs": [
    {
     "name": "stdout",
     "output_type": "stream",
     "text": [
      "1.3782846610993147\n",
      "[934, 515, 387, 787, 618, 322, 654, 164, 204, 415, 810, 109, 53, 453, 402, 855, 750, 58, 581, 728]\n"
     ]
    }
   ],
   "source": [
    "a_copy = a[:]\n",
    "\n",
    "total_elapsed = 0\n",
    "for s in searches:\n",
    "    start = timeit.default_timer()\n",
    "    index = transposition_search(a, s)\n",
    "    end = timeit.default_timer()\n",
    "    total_elapsed += end - start\n",
    "\n",
    "print(total_elapsed)\n",
    "print(a[:20])"
   ]
  },
  {
   "cell_type": "markdown",
   "metadata": {
    "slideshow": {
     "slide_type": "slide"
    }
   },
   "source": [
    "We will now perform the same searches with `a_copy` using simple sequential search."
   ]
  },
  {
   "cell_type": "code",
   "execution_count": 20,
   "metadata": {
    "slideshow": {
     "slide_type": "slide"
    }
   },
   "outputs": [
    {
     "name": "stdout",
     "output_type": "stream",
     "text": [
      "2.779128445254173\n"
     ]
    }
   ],
   "source": [
    "total_elapsed = 0\n",
    "for s in searches:\n",
    "    start = timeit.default_timer()\n",
    "    index = sequential_search(a_copy, s)\n",
    "    end = timeit.default_timer()\n",
    "    total_elapsed += end - start\n",
    "\n",
    "print(total_elapsed)"
   ]
  },
  {
   "cell_type": "markdown",
   "metadata": {
    "slideshow": {
     "slide_type": "slide"
    }
   },
   "source": [
    "## The Secretary Problem\n",
    "\n",
    "The secretary problem requires selecting the best item when we have not seen, and we cannot wait to see, the full sets of items.\n",
    "\n",
    "The solution is an online algorithm. We find the best item among the first $n/e$, where $n$ is the total expected number of items, and $e \\approx 2.71828$ is [Euler's number](https://en.wikipedia.org/wiki/E_(mathematical_constant). \n",
    "\n",
    "Then we select the first of the remaining items that is better than that. The probability that we'll indeed select the best item is $n/e \\approx 37\\%$.\n",
    "\n",
    "Here is how we can do that:"
   ]
  },
  {
   "cell_type": "code",
   "execution_count": 21,
   "metadata": {
    "slideshow": {
     "slide_type": "slide"
    }
   },
   "outputs": [],
   "source": [
    "import math\n",
    "\n",
    "def secretary_search(a):\n",
    "    # Calculate |a|/n items.\n",
    "    m = int((len(a) // math.e) + 1)\n",
    "    \n",
    "    # Find the best among the first |a|/n.\n",
    "    c = 0\n",
    "    for i in range(1, m):\n",
    "        if a[i] > a[c]:\n",
    "            c = i\n",
    "    \n",
    "    # Get the first that is better from the one\n",
    "    # we found, if possible.\n",
    "    for i in range(m, len(a)):\n",
    "        if a[i] > a[c]:\n",
    "            return i\n",
    "    return - 1"
   ]
  },
  {
   "cell_type": "markdown",
   "metadata": {
    "slideshow": {
     "slide_type": "slide"
    }
   },
   "source": [
    "Does `secretary_search(a)` find the best item in `a` about 37% of the time?\n",
    "\n",
    "To check that, we'll continue working in a similar fashion. We'll perform 1000 searches in 1000 items and see how often we do come up with the best item."
   ]
  },
  {
   "cell_type": "code",
   "execution_count": 22,
   "metadata": {
    "slideshow": {
     "slide_type": "slide"
    }
   },
   "outputs": [
    {
     "name": "stdout",
     "output_type": "stream",
     "text": [
      "found  379 out of 1000, 37.9%\n"
     ]
    }
   ],
   "source": [
    "total_found = 0\n",
    "\n",
    "for i in range(1000):\n",
    "    a = list(range(1000))\n",
    "    random.shuffle(a)\n",
    "    index = secretary_search(a)\n",
    "    max_index = a.index(max(a))\n",
    "    if index == max_index:\n",
    "        total_found += 1\n",
    "\n",
    "print(f\"found  {total_found} out of {i+1}, {100*total_found/(i+1)}%\")"
   ]
  },
  {
   "cell_type": "markdown",
   "metadata": {
    "slideshow": {
     "slide_type": "slide"
    }
   },
   "source": [
    "## Binary Search\n",
    "\n",
    "Binary search is the most efficient way to search for an item when the search space is *ordered*.\n",
    "\n",
    "It is an iterative algorithm, where in each iteration we split the search space in half.\n",
    "\n",
    "We start by asking if the search item is in the middle of the search space. Let's assume that the items are ordered in ascending orded.\n",
    "\n",
    "If it is greater than the item in the middle, we repeat the question on the right part of the search space; it it is smaller, we repeat the question on the left part of the search space. We continue until we find the item, or we cannot perform a split any more."
   ]
  },
  {
   "cell_type": "code",
   "execution_count": 23,
   "metadata": {
    "slideshow": {
     "slide_type": "slide"
    }
   },
   "outputs": [],
   "source": [
    "def binary_search(a, item):\n",
    "\n",
    "    # Initialize borders of search space.\n",
    "    low = 0\n",
    "    high = len(a) - 1\n",
    "\n",
    "    # While the search space is not empty:\n",
    "    while low <= high:\n",
    "        # Split the search space in the middle.\n",
    "        mid = low + (high - low) // 2\n",
    "        # Compare with midpoint.\n",
    "        c = (a[mid] > item) - (a[mid] < item)\n",
    "        # If smaller, repeat on the left half.\n",
    "        if c < 0:\n",
    "            low = mid + 1\n",
    "        # If greater, repeat on the right half.\n",
    "        elif c > 0:\n",
    "            high = mid - 1\n",
    "        # If found, we are done.\n",
    "        else:\n",
    "            return mid\n",
    "\n",
    "    return -1"
   ]
  },
  {
   "cell_type": "markdown",
   "metadata": {
    "slideshow": {
     "slide_type": "slide"
    }
   },
   "source": [
    "In Python 3 there is no `cmp(x, y)` function that compares `x` and `y` and returns -1, 0, or 1, if `x > y`, `x == y`, or `x < y`, respectively. We use the \n",
    "```python\n",
    "(x > y) - (y < x)```\n",
    "idiom instead.\n",
    "\n",
    "Note also the line where we calculate the midpoint:\n",
    "```python\n",
    "mid = low + (high - low) // 2\n",
    "```\n",
    "\n",
    "This guards against overflows. In Python that is not necessary, because there is no upper limit in integers, so it could be:\n",
    "```python\n",
    "mid = (low + high) // 2\n",
    "```\n",
    "\n",
    "However, this is a problem in most other languages, so we'll stick with the foolproof version."
   ]
  },
  {
   "cell_type": "markdown",
   "metadata": {
    "slideshow": {
     "slide_type": "slide"
    }
   },
   "source": [
    "To see how binary search works we can add some tracing information in `binary_search(a, item)`:"
   ]
  },
  {
   "cell_type": "code",
   "execution_count": 24,
   "metadata": {
    "slideshow": {
     "slide_type": "slide"
    }
   },
   "outputs": [
    {
     "name": "stdout",
     "output_type": "stream",
     "text": [
      "Searching for 149\n",
      "(0, 4), (7, 437), (15, 903)\n",
      "(0, 4), (3, 65), (6, 181)\n",
      "(4, 114), (5, 149), (6, 181)\n",
      "Searching for 181\n",
      "(0, 4), (7, 437), (15, 903)\n",
      "(0, 4), (3, 65), (6, 181)\n",
      "(4, 114), (5, 149), (6, 181)\n",
      "(6, 181), (6, 181), (6, 181)\n",
      "Searching for 583\n",
      "(0, 4), (7, 437), (15, 903)\n",
      "(8, 480), (11, 613), (15, 903)\n",
      "(8, 480), (9, 507), (10, 551)\n",
      "(10, 551), (10, 551), (10, 551)\n",
      "Searching for 450\n",
      "(0, 4), (7, 437), (15, 903)\n",
      "(8, 480), (11, 613), (15, 903)\n",
      "(8, 480), (9, 507), (10, 551)\n",
      "(8, 480), (8, 480), (8, 480)\n",
      "Searching for 3\n",
      "(0, 4), (7, 437), (15, 903)\n",
      "(0, 4), (3, 65), (6, 181)\n",
      "(0, 4), (1, 10), (2, 31)\n",
      "(0, 4), (0, 4), (0, 4)\n"
     ]
    },
    {
     "data": {
      "text/plain": [
       "-1"
      ]
     },
     "execution_count": 24,
     "metadata": {},
     "output_type": "execute_result"
    }
   ],
   "source": [
    "def binary_search_trace(a, item):\n",
    "\n",
    "    print(\"Searching for\", item)\n",
    "    # Initialize borders of search space.\n",
    "    low = 0\n",
    "    high = len(a) - 1\n",
    "\n",
    "    # While the search space is not empty:\n",
    "    while low <= high:\n",
    "        # Split the search space in the middle.\n",
    "        mid = low + (high - low) // 2\n",
    "        # Compare with midpoint.\n",
    "        c = (a[mid] > item) - (a[mid] < item)\n",
    "        print(f\"({low}, {a[low]}), ({mid}, {a[mid]}), ({high}, {a[high]})\")\n",
    "        \n",
    "        # If smaller, repeat on the left half.\n",
    "        if c < 0:\n",
    "            low = mid + 1\n",
    "        # If greater, repeat on the right half.\n",
    "        elif c > 0:\n",
    "            high = mid - 1\n",
    "        # If found, we are done.\n",
    "        else:\n",
    "            return mid\n",
    "\n",
    "    return -1\n",
    "\n",
    "a = [4, 10, 31, 65, 114, 149, 181, 437,\n",
    "     480, 507, 551, 613, 680, 777, 782, 903] \n",
    "\n",
    "binary_search_trace(a, 149)\n",
    "binary_search_trace(a, 181)\n",
    "binary_search_trace(a, 583)\n",
    "binary_search_trace(a, 450)\n",
    "binary_search_trace(a, 3)\n"
   ]
  },
  {
   "cell_type": "markdown",
   "metadata": {
    "slideshow": {
     "slide_type": "slide"
    }
   },
   "source": [
    "Binary search is very efficient&mdash;in fact, it is as efficient as a search method can be (there is a smalll caveat here, concerning searching in quantum computers, but we can leave that aside).\n",
    "\n",
    "If have have $n$ items, it will complete the search in $O(\\lg(n))$.\n",
    "\n",
    "Once again, we can verify that theory agrees with practice. We will perform 1000 searches, 500 of them successful and 500 of them unsuccessful and count the average number of iterations required. To do that, we'll change `binary_search(a, item)` so that it also returns the number of iterations."
   ]
  },
  {
   "cell_type": "code",
   "execution_count": 25,
   "metadata": {
    "slideshow": {
     "slide_type": "slide"
    }
   },
   "outputs": [],
   "source": [
    "def binary_search_count(a, item):\n",
    "\n",
    "    # Initialize borders of search space.\n",
    "    low = 0\n",
    "    high = len(a) - 1\n",
    "    \n",
    "    i = 0\n",
    "    # While the search space is not empty:\n",
    "    while low <= high:\n",
    "        i += 1\n",
    "        # Split the search space in the middle.\n",
    "        mid = low + (high - low) // 2\n",
    "        # Compare with midpoint.\n",
    "        c = (a[mid] > item) - (a[mid] < item)\n",
    "        \n",
    "        # If smaller, repeat on the left half.\n",
    "        if c < 0:\n",
    "            low = mid + 1\n",
    "        # If greater, repeat on the right half.\n",
    "        elif c > 0:\n",
    "            high = mid - 1\n",
    "        # If found, we are done.\n",
    "        else:\n",
    "            return (i, mid)\n",
    "\n",
    "    return (i, -1)"
   ]
  },
  {
   "cell_type": "markdown",
   "metadata": {
    "slideshow": {
     "slide_type": "slide"
    }
   },
   "source": [
    "We build up our test suite. Our items will be 1000 random numbers in the range from 0 to 999,999.\n",
    "\n",
    "We will select 500 of them to perform matching searches, and another 500, not in them, to perform non-matching searches."
   ]
  },
  {
   "cell_type": "code",
   "execution_count": 26,
   "metadata": {
    "slideshow": {
     "slide_type": "fragment"
    }
   },
   "outputs": [
    {
     "name": "stdout",
     "output_type": "stream",
     "text": [
      "set()\n"
     ]
    }
   ],
   "source": [
    "num_range = 1000000\n",
    "# Get 1000 random numbers from 0 to 999999.\n",
    "a = random.sample(range(num_range), k=1000)\n",
    "# Select 500 from them for our matching searches.\n",
    "existing = random.sample(a, k=500)\n",
    "# Select another 500 random numbers in the range, \n",
    "# not in the set a, for our non-matching searches\n",
    "non_existing = random.sample(set(range(num_range)) - set(a), k=500)\n",
    "\n",
    "# Verify that the matching and non-matchin sets are distinct.\n",
    "print(set(existing) & set(non_existing))"
   ]
  },
  {
   "cell_type": "markdown",
   "metadata": {
    "slideshow": {
     "slide_type": "slide"
    }
   },
   "source": [
    "So now we can see how the average number of iterations in practice fares compared to what predicted by theory."
   ]
  },
  {
   "cell_type": "code",
   "execution_count": 27,
   "metadata": {
    "slideshow": {
     "slide_type": "fragment"
    }
   },
   "outputs": [
    {
     "name": "stdout",
     "output_type": "stream",
     "text": [
      "Average iterations: 9.743\n",
      "lg(1000) = 9.965784284662087\n"
     ]
    }
   ],
   "source": [
    "total_iters = 0\n",
    "for matching, non_matching in zip(existing, non_existing):\n",
    "    matching_iters, _ = binary_search_count(a, matching)\n",
    "    non_matching_iters, _ = binary_search_count(a, non_matching)\n",
    "    total_iters += (matching_iters + non_matching_iters)\n",
    "    \n",
    "print(f\"Average iterations:\", total_iters / (len(existing) + len(non_existing)))\n",
    "print(f\"lg(1000) = {math.log(1000, 2)}\")"
   ]
  }
 ],
 "metadata": {
  "celltoolbar": "Slideshow",
  "kernelspec": {
   "display_name": "Python 3",
   "language": "python",
   "name": "python3"
  },
  "language_info": {
   "codemirror_mode": {
    "name": "ipython",
    "version": 3
   },
   "file_extension": ".py",
   "mimetype": "text/x-python",
   "name": "python",
   "nbconvert_exporter": "python",
   "pygments_lexer": "ipython3",
   "version": "3.6.5"
  }
 },
 "nbformat": 4,
 "nbformat_minor": 1
}
